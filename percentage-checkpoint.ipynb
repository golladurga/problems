{
 "cells": [
  {
   "cell_type": "code",
   "execution_count": 3,
   "id": "ebc73994",
   "metadata": {},
   "outputs": [
    {
     "name": "stdout",
     "output_type": "stream",
     "text": [
      "[(1, 5), (2, 4)]\n"
     ]
    }
   ],
   "source": [
    "def find_pairs(arr, target_sum):\n",
    "    pairs = []\n",
    "    for i in range(len(arr)):\n",
    "        for j in range(i+1, len(arr)):\n",
    "            if arr[i] + arr[j] == target_sum:\n",
    "                pairs.append((arr[i], arr[j]))\n",
    "    return pairs\n",
    "array = [1, 2, 3, 4, 5]\n",
    "target = 6\n",
    "result = find_pairs(array, target)\n",
    "print(result) "
   ]
  },
  {
   "cell_type": "code",
   "execution_count": 4,
   "id": "76d4f16e",
   "metadata": {},
   "outputs": [
    {
     "name": "stdout",
     "output_type": "stream",
     "text": [
      "[(1, 5), (2, 4)]\n"
     ]
    }
   ],
   "source": [
    "array = [1, 2, 3, 4, 5]\n",
    "target = 6\n",
    "result = find_pairs(array, target)\n",
    "print(result) "
   ]
  },
  {
   "cell_type": "code",
   "execution_count": null,
   "id": "bb8bd75d",
   "metadata": {},
   "outputs": [],
   "source": [
    "if __name__ == '__main__':\n",
    "    n = int(input())\n",
    "    student_marks = {}\n",
    "    for _ in range(n):\n",
    "        name, *line = input().split()\n",
    "        scores = list(map(float, line))\n",
    "        student_marks[name] = scores\n",
    "    query_name = input()\n",
    "output= list(student_marks[query_name])    \n",
    "per= sum(output)/len(output);\n",
    "print(\"%.2f\" % per);"
   ]
  },
  {
   "cell_type": "code",
   "execution_count": 5,
   "id": "ee44d3ac",
   "metadata": {},
   "outputs": [
    {
     "name": "stdout",
     "output_type": "stream",
     "text": [
      "this is a string\n",
      "this-is-a-string\n"
     ]
    }
   ],
   "source": [
    "def split_and_join(line):\n",
    "    # write your code here\n",
    "    a=line.split()\n",
    "    return\"-\".join(a)\n",
    "\n",
    "if __name__ == '__main__':\n",
    "    line = input()\n",
    "    result = split_and_join(line)\n",
    "    print(result)"
   ]
  },
  {
   "cell_type": "code",
   "execution_count": null,
   "id": "f8fce222",
   "metadata": {},
   "outputs": [
    {
     "name": "stdout",
     "output_type": "stream",
     "text": [
      "345\n"
     ]
    }
   ],
   "source": [
    "n=int(input())\n",
    "n1=set(map(int,input().split()))\n",
    "m=int(input())\n",
    "m1=set(map(int,input().split()))\n",
    "ans=n1.intersection(m1)\n",
    "count=0\n",
    "for i in ans:\n",
    "    count=count+1\n",
    "print(count)    "
   ]
  },
  {
   "cell_type": "code",
   "execution_count": null,
   "id": "761877dd",
   "metadata": {},
   "outputs": [],
   "source": [
    "if __name__ == '__main__':\n",
    "    n = int(input())\n",
    "    arr = map(int, input().split())\n",
    "    arr2=list(set(arr))\n",
    "    arr2.sort()\n",
    "    print(arr2[-2])"
   ]
  },
  {
   "cell_type": "code",
   "execution_count": null,
   "id": "fbde63ab",
   "metadata": {},
   "outputs": [],
   "source": [
    "def swap_case(s):\n",
    "        SwAp = ''\n",
    "        for char in s:\n",
    "            if char.upper() != char:\n",
    "                SwAp += char.upper()\n",
    "            elif char.lower() != char:\n",
    "                SwAp += char.lower()\n",
    "            else:\n",
    "                SwAp += char\n",
    "        \n",
    "        \n",
    "        return SwAp\n",
    "\n",
    "\n",
    "if __name__ == '__main__':\n",
    "    s = input()\n",
    "    result = swap_case(s)\n",
    "    print(result)"
   ]
  },
  {
   "cell_type": "code",
   "execution_count": null,
   "id": "6505ea88",
   "metadata": {},
   "outputs": [],
   "source": [
    "if __name__ == '__main__':\n",
    "    a = int(input())\n",
    "    b = int(input())\n",
    "    print(str(a+b)+\"\\n\"+str(a-b)+\"\\n\"+str(a*b))"
   ]
  },
  {
   "cell_type": "code",
   "execution_count": null,
   "id": "fcf481de",
   "metadata": {},
   "outputs": [],
   "source": [
    "if __name__ == '__main__':\n",
    "    a = int(input())\n",
    "    b = int(input())\n",
    "    print(a//b)\n",
    "    print(a/b)"
   ]
  },
  {
   "cell_type": "code",
   "execution_count": null,
   "id": "dc493bda",
   "metadata": {},
   "outputs": [],
   "source": [
    "import math\n",
    "import os\n",
    "import random\n",
    "import re\n",
    "import sys\n",
    "\n",
    "\n",
    "\n",
    "if __name__ == '__main__':\n",
    "    n = int(input().strip())\n",
    "    is_odd =n%2\n",
    "    condition_2=not(n%2) and n in range(2,5)\n",
    "    condition_3=not(n%2) and n in range(6,21)# end not included\n",
    "    condition_4=not(n%2) and n >20\n",
    "    if is_odd or condition_3:\n",
    "        print (\"Weird\")\n",
    "    elif condition_2 or  condition_4:\n",
    "        print(\"Not Weird\")  \n"
   ]
  },
  {
   "cell_type": "code",
   "execution_count": null,
   "id": "ea5b3d30",
   "metadata": {},
   "outputs": [],
   "source": [
    "if __name__ == '__main__':\n",
    "    num=[]\n",
    "    arr=[]\n",
    "    for _ in range(int(input())):\n",
    "        name = input()\n",
    "        score = float(input())\n",
    "        arr.append([name, score])\n",
    "        num.append(score)\n",
    "        \n",
    "    num.sort()\n",
    "    second_min = 0\n",
    "    mini = num[0]\n",
    "    arr.sort()\n",
    "    for i in num:\n",
    "        if i != mini:\n",
    "            second_min = i\n",
    "            break\n",
    "    \n",
    "    for i in arr:\n",
    "        if i[1] == second_min:\n",
    "         print(i[0])\n",
    "         _"
   ]
  }
 ],
 "metadata": {
  "kernelspec": {
   "display_name": "Python 3 (ipykernel)",
   "language": "python",
   "name": "python3"
  },
  "language_info": {
   "codemirror_mode": {
    "name": "ipython",
    "version": 3
   },
   "file_extension": ".py",
   "mimetype": "text/x-python",
   "name": "python",
   "nbconvert_exporter": "python",
   "pygments_lexer": "ipython3",
   "version": "3.10.9"
  }
 },
 "nbformat": 4,
 "nbformat_minor": 5
}
